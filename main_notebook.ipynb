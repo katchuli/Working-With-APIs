{
 "cells": [
  {
   "cell_type": "markdown",
   "metadata": {},
   "source": [
    "# Use this notebook for your 3 choices of APIs"
   ]
  },
  {
   "cell_type": "code",
   "execution_count": 128,
   "metadata": {},
   "outputs": [],
   "source": [
    "import pandas as pd\n",
    "import requests"
   ]
  },
  {
   "cell_type": "markdown",
   "metadata": {},
   "source": [
    "### 1. PurpleAir API. Conexion in real time to different air sensors"
   ]
  },
  {
   "cell_type": "markdown",
   "metadata": {},
   "source": [
    "- Create a member, get the Key to get acces and add free points\n",
    "https://develop.purpleair.com/projects"
   ]
  },
  {
   "cell_type": "markdown",
   "metadata": {},
   "source": [
    "- Check the API-Key\n",
    "https://api.purpleair.com/#api-keys-check-api-key"
   ]
  },
  {
   "cell_type": "markdown",
   "metadata": {},
   "source": [
    "- Choose the sensor\n",
    "https://map.purpleair.com/1/mEUAQI/a10/p604800/cC0?select=118937#4.04/49.96/8.19"
   ]
  },
  {
   "cell_type": "markdown",
   "metadata": {},
   "source": [
    "- Make the connection "
   ]
  },
  {
   "cell_type": "code",
   "execution_count": 133,
   "metadata": {},
   "outputs": [],
   "source": [
    "my_header = {'X-API-Key': '7063D282-CFFF-11EE-A056-42010A80000C', 'Content-Type': 'application/json'}\n",
    "my_params = {'fields': 'humidity, temperature, pm2.5_atm, pm2.5_alt'}\n",
    "sensor = \"118937\"\n",
    "response = requests.get(\n",
    "    f\"https://api.purpleair.com/v1/sensors/{sensor}/\",\n",
    "    headers=my_header,\n",
    "    #params=my_params,\n",
    ")"
   ]
  },
  {
   "cell_type": "code",
   "execution_count": 134,
   "metadata": {},
   "outputs": [
    {
     "name": "stdout",
     "output_type": "stream",
     "text": [
      "200\n"
     ]
    }
   ],
   "source": [
    "print(response.status_code)"
   ]
  },
  {
   "cell_type": "code",
   "execution_count": 135,
   "metadata": {},
   "outputs": [
    {
     "data": {
      "text/plain": [
       "requests.models.Response"
      ]
     },
     "execution_count": 135,
     "metadata": {},
     "output_type": "execute_result"
    }
   ],
   "source": [
    "type(response)"
   ]
  },
  {
   "cell_type": "code",
   "execution_count": 136,
   "metadata": {},
   "outputs": [
    {
     "name": "stdout",
     "output_type": "stream",
     "text": [
      "{'api_version': 'V1.0.11-0.0.49', 'time_stamp': 1708463925, 'data_time_stamp': 1708463908, 'sensor': {'sensor_index': 118937, 'last_modified': 1636629942, 'date_created': 1628539309, 'last_seen': 1708463898, 'private': 0, 'is_owner': 0, 'name': 'BrrDom', 'icon': 0, 'location_type': 0, 'model': 'PA-II', 'hardware': '2.0+BME280+PMSX003-B+PMSX003-A', 'led_brightness': 35, 'firmware_version': '7.02', 'rssi': -57, 'uptime': 39737, 'pa_latency': 328, 'memory': 16128, 'position_rating': 5, 'latitude': 51.217625, 'longitude': 16.138233, 'altitude': 400, 'channel_state': 3, 'channel_flags': 0, 'channel_flags_manual': 0, 'channel_flags_auto': 0, 'confidence': 97, 'confidence_auto': 97, 'confidence_manual': 97, 'humidity': 61, 'humidity_a': 61, 'temperature': 48, 'temperature_a': 48, 'pressure': 1009.78, 'pressure_a': 1009.78, 'analog_input': 0.02, 'pm1.0': 0.0, 'pm1.0_a': 0.0, 'pm1.0_b': 0.0, 'pm2.5': 0.7, 'pm2.5_a': 1.5, 'pm2.5_b': 0.0, 'pm2.5_alt': 0.9, 'pm2.5_alt_a': 1.3, 'pm2.5_alt_b': 0.6, 'pm10.0': 1.2, 'pm10.0_a': 2.3, 'pm10.0_b': 0.0, '0.3_um_count': 189, '0.3_um_count_a': 232, '0.3_um_count_b': 146, '0.5_um_count': 148, '0.5_um_count_a': 196, '0.5_um_count_b': 100, '1.0_um_count': 1, '1.0_um_count_a': 3, '1.0_um_count_b': 0, '2.5_um_count': 0, '2.5_um_count_a': 0, '2.5_um_count_b': 0, '5.0_um_count': 0, '5.0_um_count_a': 0, '5.0_um_count_b': 0, '10.0_um_count': 0, '10.0_um_count_a': 0, '10.0_um_count_b': 0, 'pm1.0_cf_1': 0.0, 'pm1.0_cf_1_a': 0.0, 'pm1.0_cf_1_b': 0.0, 'pm1.0_atm': 0.0, 'pm1.0_atm_a': 0.0, 'pm1.0_atm_b': 0.0, 'pm2.5_atm': 0.7, 'pm2.5_atm_a': 1.49, 'pm2.5_atm_b': 0.0, 'pm2.5_cf_1': 0.7, 'pm2.5_cf_1_a': 1.49, 'pm2.5_cf_1_b': 0.0, 'pm10.0_atm': 1.2, 'pm10.0_atm_a': 2.34, 'pm10.0_atm_b': 0.0, 'pm10.0_cf_1': 1.2, 'pm10.0_cf_1_a': 2.34, 'pm10.0_cf_1_b': 0.0, 'primary_id_a': 1469149, 'primary_key_a': 'IRDR9337XSLOW87L', 'primary_id_b': 1469151, 'primary_key_b': 'WWDLU308M5VATMIG', 'secondary_id_a': 1469150, 'secondary_key_a': '76RZ762FE0TCJFTI', 'secondary_id_b': 1469152, 'secondary_key_b': 'NS5VXGPGSBTY8LF9', 'stats': {'pm2.5': 0.7, 'pm2.5_10minute': 1.8, 'pm2.5_30minute': 4.0, 'pm2.5_60minute': 5.5, 'pm2.5_6hour': 6.0, 'pm2.5_24hour': 12.0, 'pm2.5_1week': 17.4, 'time_stamp': 1708463898}, 'stats_a': {'pm2.5': 1.5, 'pm2.5_10minute': 2.8, 'pm2.5_30minute': 5.5, 'pm2.5_60minute': 7.1, 'pm2.5_6hour': 7.6, 'pm2.5_24hour': 13.9, 'pm2.5_1week': 19.4, 'time_stamp': 1708463898}, 'stats_b': {'pm2.5': 0.0, 'pm2.5_10minute': 0.9, 'pm2.5_30minute': 2.6, 'pm2.5_60minute': 3.9, 'pm2.5_6hour': 4.5, 'pm2.5_24hour': 10.1, 'pm2.5_1week': 15.5, 'time_stamp': 1708463898}}}\n"
     ]
    }
   ],
   "source": [
    "print(response.json()) # getting all the variables in the sensor 118937"
   ]
  },
  {
   "cell_type": "markdown",
   "metadata": {},
   "source": [
    "- Request of some variables like humidity, temperature and pm2.5_24hour\n",
    "\n",
    "\n",
    "\n"
   ]
  },
  {
   "cell_type": "code",
   "execution_count": 150,
   "metadata": {},
   "outputs": [],
   "source": [
    "my_params = {'fields': 'humidity, temperature, pm2.5_24hour'}"
   ]
  },
  {
   "cell_type": "code",
   "execution_count": 153,
   "metadata": {},
   "outputs": [],
   "source": [
    "my_header = {'X-API-Key': '7063D282-CFFF-11EE-A056-42010A80000C', 'Content-Type': 'application/json'}\n",
    "my_params = {'fields': 'humidity, temperature, pm2.5_24hour'}\n",
    "sensor = \"118937\"\n",
    "response2 = requests.get(\n",
    "    f\"https://api.purpleair.com/v1/sensors/{sensor}/\",\n",
    "    headers=my_header,\n",
    "    params=my_params,\n",
    ")"
   ]
  },
  {
   "cell_type": "code",
   "execution_count": 154,
   "metadata": {},
   "outputs": [
    {
     "name": "stdout",
     "output_type": "stream",
     "text": [
      "{'api_version': 'V1.0.11-0.0.49', 'time_stamp': 1708464801, 'data_time_stamp': 1708464769, 'sensor': {'sensor_index': 118937, 'humidity': 61, 'temperature': 48, 'stats': {'pm2.5': 1.5, 'pm2.5_24hour': 11.9, 'time_stamp': 1708464738}}}\n"
     ]
    }
   ],
   "source": [
    "print(response2.json())"
   ]
  },
  {
   "cell_type": "markdown",
   "metadata": {},
   "source": [
    "### 2. Water Services https://waterservices.usgs.gov/"
   ]
  },
  {
   "cell_type": "markdown",
   "metadata": {},
   "source": [
    "### 3. Open Food Facts https://world.openfoodfacts.org/data"
   ]
  },
  {
   "cell_type": "code",
   "execution_count": null,
   "metadata": {},
   "outputs": [],
   "source": []
  },
  {
   "cell_type": "code",
   "execution_count": null,
   "metadata": {},
   "outputs": [],
   "source": []
  },
  {
   "cell_type": "code",
   "execution_count": null,
   "metadata": {},
   "outputs": [],
   "source": []
  },
  {
   "cell_type": "code",
   "execution_count": null,
   "metadata": {},
   "outputs": [],
   "source": []
  },
  {
   "cell_type": "code",
   "execution_count": null,
   "metadata": {},
   "outputs": [],
   "source": []
  },
  {
   "cell_type": "code",
   "execution_count": null,
   "metadata": {},
   "outputs": [],
   "source": []
  },
  {
   "cell_type": "code",
   "execution_count": null,
   "metadata": {},
   "outputs": [],
   "source": []
  },
  {
   "cell_type": "code",
   "execution_count": null,
   "metadata": {},
   "outputs": [],
   "source": []
  },
  {
   "cell_type": "code",
   "execution_count": null,
   "metadata": {},
   "outputs": [],
   "source": []
  },
  {
   "cell_type": "code",
   "execution_count": null,
   "metadata": {},
   "outputs": [],
   "source": []
  }
 ],
 "metadata": {
  "kernelspec": {
   "display_name": "Python 3 (ipykernel)",
   "language": "python",
   "name": "python3"
  },
  "language_info": {
   "codemirror_mode": {
    "name": "ipython",
    "version": 3
   },
   "file_extension": ".py",
   "mimetype": "text/x-python",
   "name": "python",
   "nbconvert_exporter": "python",
   "pygments_lexer": "ipython3",
   "version": "3.11.3"
  }
 },
 "nbformat": 4,
 "nbformat_minor": 4
}
